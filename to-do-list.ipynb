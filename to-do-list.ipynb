{
 "cells": [
  {
   "cell_type": "code",
   "execution_count": 1,
   "metadata": {},
   "outputs": [
    {
     "name": "stdout",
     "output_type": "stream",
     "text": [
      "\n",
      "To-Do List:\n",
      "1. Tambah Tugas\n",
      "2. Tampilkan Tugas\n",
      "3. Hapus Tugas\n",
      "4. Keluar\n",
      "Tugas 'hk1' berhasil ditambahkan!\n",
      "\n",
      "To-Do List:\n",
      "1. Tambah Tugas\n",
      "2. Tampilkan Tugas\n",
      "3. Hapus Tugas\n",
      "4. Keluar\n",
      "Daftar tugas:\n",
      "1. hk1\n",
      "\n",
      "To-Do List:\n",
      "1. Tambah Tugas\n",
      "2. Tampilkan Tugas\n",
      "3. Hapus Tugas\n",
      "4. Keluar\n",
      "Daftar tugas:\n",
      "1. hk1\n",
      "Tugas 'hk1' berhasil dihapus!\n",
      "\n",
      "To-Do List:\n",
      "1. Tambah Tugas\n",
      "2. Tampilkan Tugas\n",
      "3. Hapus Tugas\n",
      "4. Keluar\n",
      "Terima kasih!\n"
     ]
    }
   ],
   "source": [
    "tugas = []\n",
    "\n",
    "def tambah_tugas():\n",
    "    tugas_baru = input(\"Masukkan tugas baru: \")\n",
    "    tugas.append(tugas_baru)\n",
    "    print(f\"Tugas '{tugas_baru}' berhasil ditambahkan!\")\n",
    "\n",
    "def tampilkan_tugas():\n",
    "    if len(tugas) == 0:\n",
    "        print(\"Tidak ada tugas!\")\n",
    "    else:\n",
    "        print(\"Daftar tugas:\")\n",
    "        for i, t in enumerate(tugas, 1):\n",
    "            print(f\"{i}. {t}\")\n",
    "\n",
    "def hapus_tugas():\n",
    "    tampilkan_tugas()\n",
    "    if len(tugas) > 0:\n",
    "        nomor_tugas = int(input(\"Masukkan nomor tugas yang ingin dihapus: \"))\n",
    "        if 0 < nomor_tugas <= len(tugas):\n",
    "            tugas_terhapus = tugas.pop(nomor_tugas - 1)\n",
    "            print(f\"Tugas '{tugas_terhapus}' berhasil dihapus!\")\n",
    "        else:\n",
    "            print(\"Nomor tugas tidak valid!\")\n",
    "\n",
    "def menu():\n",
    "    while True:\n",
    "        print(\"\\nTo-Do List:\")\n",
    "        print(\"1. Tambah Tugas\")\n",
    "        print(\"2. Tampilkan Tugas\")\n",
    "        print(\"3. Hapus Tugas\")\n",
    "        print(\"4. Keluar\")\n",
    "        pilihan = input(\"Pilih opsi: \")\n",
    "\n",
    "        if pilihan == '1':\n",
    "            tambah_tugas()\n",
    "        elif pilihan == '2':\n",
    "            tampilkan_tugas()\n",
    "        elif pilihan == '3':\n",
    "            hapus_tugas()\n",
    "        elif pilihan == '4':\n",
    "            print(\"Terima kasih!\")\n",
    "            break\n",
    "        else:\n",
    "            print(\"Opsi tidak valid!\")\n",
    "\n",
    "menu()\n"
   ]
  }
 ],
 "metadata": {
  "kernelspec": {
   "display_name": "Python 3",
   "language": "python",
   "name": "python3"
  },
  "language_info": {
   "codemirror_mode": {
    "name": "ipython",
    "version": 3
   },
   "file_extension": ".py",
   "mimetype": "text/x-python",
   "name": "python",
   "nbconvert_exporter": "python",
   "pygments_lexer": "ipython3",
   "version": "3.12.2"
  }
 },
 "nbformat": 4,
 "nbformat_minor": 2
}
